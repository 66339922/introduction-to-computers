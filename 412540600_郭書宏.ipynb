{
  "nbformat": 4,
  "nbformat_minor": 0,
  "metadata": {
    "colab": {
      "provenance": [],
      "authorship_tag": "ABX9TyOhDdWbtl8Jd3wdeb9iBEVM",
      "include_colab_link": true
    },
    "kernelspec": {
      "name": "python3",
      "display_name": "Python 3"
    },
    "language_info": {
      "name": "python"
    }
  },
  "cells": [
    {
      "cell_type": "markdown",
      "metadata": {
        "id": "view-in-github",
        "colab_type": "text"
      },
      "source": [
        "<a href=\"https://colab.research.google.com/github/66339922/introduction-to-computers/blob/main/412540600_%E9%83%AD%E6%9B%B8%E5%AE%8F.ipynb\" target=\"_parent\"><img src=\"https://colab.research.google.com/assets/colab-badge.svg\" alt=\"Open In Colab\"/></a>"
      ]
    },
    {
      "cell_type": "code",
      "execution_count": 21,
      "metadata": {
        "colab": {
          "base_uri": "https://localhost:8080/"
        },
        "id": "TzKtV0Tfax4C",
        "outputId": "ae3af8d3-76af-4bc9-b002-e89bbca81542"
      },
      "outputs": [
        {
          "output_type": "stream",
          "name": "stdout",
          "text": [
            "請輸入體溫36.2\n",
            "體溫異常,請重新量測!\n"
          ]
        }
      ],
      "source": [
        "A = float(input(\"請輸入體溫\"))\n",
        "if (A >= 37.5 and A < 34.0):\n",
        "  if (A >= 37.5):\n",
        "   print(\"體溫過高!\")\n",
        "  elif (A > 36.9 and A < 37.5): # Corrected indentation\n",
        "   print(\"體溫略高!\")\n",
        "  elif (A > 34 and A < 37):\n",
        "   print(\"體溫正常!\")\n",
        "else:\n",
        "  print(\"體溫異常,請重新量測!\")"
      ]
    },
    {
      "cell_type": "code",
      "source": [
        "score=int(input(\"請輸入成績\"))\n",
        "if(score>=90 or score<60):\n",
        "  if(score>=90):\n",
        "   print(\"A\".format(score))\n",
        "  elif(score>=80 or score<90):\n",
        "   print(\"B\".format(score))\n",
        "  elif(score>=70 or score<80):\n",
        "   print(\"C\".format(score))\n",
        "  elif(score>=60 or score<70):\n",
        "   print(\"D\".format(score))\n",
        "else:\n",
        "  print(\"E\".format(score))"
      ],
      "metadata": {
        "colab": {
          "base_uri": "https://localhost:8080/"
        },
        "id": "7XOkuSypa3sA",
        "outputId": "f846d168-dc4e-4c34-dba6-0e05663b0870"
      },
      "execution_count": 20,
      "outputs": [
        {
          "output_type": "stream",
          "name": "stdout",
          "text": [
            "請輸入成績72\n",
            "E\n"
          ]
        }
      ]
    },
    {
      "cell_type": "code",
      "source": [
        "month=int(input())\n",
        "if(month>=1 and month<=12):\n",
        "  if(month==3 or month==4 or month==5):\n",
        "   print(\"{}月是春天\".format(month))\n",
        "  elif(month==6 or month==7 or month==8):\n",
        "   print(\"{}月是夏天\".format(month))\n",
        "  elif(month==9 or month==10 or month==11):\n",
        "   print(\"{}月是秋天\".format(month))\n",
        "  elif(month==12 or month==1 or month==2):\n",
        "   print(\"{}月是冬天\".format(month))\n",
        "else:\n",
        "  print(\"Input Error\")"
      ],
      "metadata": {
        "colab": {
          "base_uri": "https://localhost:8080/"
        },
        "id": "ALJ1hS1ua4NV",
        "outputId": "5aa4b940-d93d-4244-a375-737d411399e3"
      },
      "execution_count": 7,
      "outputs": [
        {
          "output_type": "stream",
          "name": "stdout",
          "text": [
            "6\n",
            "6月是夏天\n"
          ]
        }
      ]
    }
  ]
}